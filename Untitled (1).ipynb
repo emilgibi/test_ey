{
 "cells": [
  {
   "cell_type": "code",
   "execution_count": 7,
   "metadata": {},
   "outputs": [
    {
     "name": "stdout",
     "output_type": "stream",
     "text": [
      "[('RAVI', 4), ('SANJEEV', 7), ('JOHN', 4)]\n"
     ]
    }
   ],
   "source": [
    "def names_list(names):\n",
    "    list_name=[]\n",
    "    for name in names:\n",
    "        capital_name=name.upper()\n",
    "        length = len(name)\n",
    "        list_name.append((capital_name, length))\n",
    "        \n",
    "    return list_name\n",
    "\n",
    "names =  [\"Ravi\", \"Sanjeev\", \"John\"] \n",
    "result = names_list(names)\n",
    "print(result)"
   ]
  },
  {
   "cell_type": "code",
   "execution_count": 14,
   "metadata": {},
   "outputs": [
    {
     "name": "stdout",
     "output_type": "stream",
     "text": [
      "WELCOME TO BIGMART!!!\n",
      "\n",
      "1. Display Inventory\n",
      "2. Place Order\n",
      "3. Exit\n"
     ]
    },
    {
     "name": "stdin",
     "output_type": "stream",
     "text": [
      "Enter your choice:  1\n"
     ]
    },
    {
     "name": "stdout",
     "output_type": "stream",
     "text": [
      "ID  Name  MRP  Quantity  Size\n",
      "1\tTwix\t20\t20\tSmall\n",
      "2\tKitkat\t40\t20\tMedium\n",
      "3\tLays\t30\t20\tLarge\n",
      "WELCOME TO BIGMART!!!\n",
      "\n",
      "1. Display Inventory\n",
      "2. Place Order\n",
      "3. Exit\n"
     ]
    },
    {
     "name": "stdin",
     "output_type": "stream",
     "text": [
      "Enter your choice:  2\n"
     ]
    },
    {
     "name": "stdout",
     "output_type": "stream",
     "text": [
      "ID  Name  MRP  Quantity  Size\n",
      "1\tTwix\t20\t20\tSmall\n",
      "2\tKitkat\t40\t20\tMedium\n",
      "3\tLays\t30\t20\tLarge\n"
     ]
    },
    {
     "name": "stdin",
     "output_type": "stream",
     "text": [
      "Enter the Item ID you want to purchase (0 to exit):  2\n",
      "Enter the quantity of Kitkat you want to purchase:  10\n"
     ]
    },
    {
     "name": "stdout",
     "output_type": "stream",
     "text": [
      "ID  Name  MRP  Quantity  Size\n",
      "1\tTwix\t20\t20\tSmall\n",
      "2\tKitkat\t40\t10\tMedium\n",
      "3\tLays\t30\t20\tLarge\n"
     ]
    },
    {
     "name": "stdin",
     "output_type": "stream",
     "text": [
      "Enter the Item ID you want to purchase (0 to exit):  0\n"
     ]
    },
    {
     "name": "stdout",
     "output_type": "stream",
     "text": [
      "Order placed successfully! Order ID: 1\n",
      "WELCOME TO BIGMART!!!\n",
      "\n",
      "1. Display Inventory\n",
      "2. Place Order\n",
      "3. Exit\n"
     ]
    },
    {
     "name": "stdin",
     "output_type": "stream",
     "text": [
      "Enter your choice:  3\n"
     ]
    },
    {
     "name": "stdout",
     "output_type": "stream",
     "text": [
      "Thank you for using the inventory system!\n"
     ]
    }
   ],
   "source": [
    "inventory= {\n",
    "    1:{\"Name\":\"Twix\",\"MRP\":20,\"Quantity\":20,\"Size\":\"Small\"},\n",
    "    2:{\"Name\":\"Kitkat\",\"MRP\":40,\"Quantity\":20,\"Size\":\"Medium\"},\n",
    "    3:{\"Name\":\"Lays\",\"MRP\":30,\"Quantity\":20,\"Size\":\"Large\"}\n",
    "    4:{\"Name\":\"Mars\",\"MRP\":25,\"Quantity\":15,\"Size\":\"Small\"},\n",
    "}\n",
    "order = {}\n",
    "order_id = 1\n",
    "\n",
    "def dispinventory():\n",
    "    print(\"ID  Name  MRP  Quantity  Size\")\n",
    "    for item_id, details in inventory.items():\n",
    "        print(f\"{item_id}\\t{details['Name']}\\t{details['MRP']}\\t{details['Quantity']}\\t{details['Size']}\")\n",
    "\n",
    "def place_order():\n",
    "    global order_id\n",
    "    order_details = {}\n",
    "    while True:\n",
    "        dispinventory()\n",
    "        item_id = int(input(\"Enter the Item ID you want to purchase (0 to exit): \"))\n",
    "        if item_id == 0:\n",
    "            break\n",
    "        if item_id not in inventory:\n",
    "            print(\"Invalid Item ID. Please enter a valid Item ID.\")\n",
    "            continue\n",
    "        quantity = int(input(f\"Enter the quantity of {inventory[item_id]['Name']} you want to purchase: \"))\n",
    "        if quantity <= inventory[item_id]['Quantity']:\n",
    "            order_details[inventory[item_id]['Name']] = quantity\n",
    "            inventory[item_id]['Quantity'] -= quantity\n",
    "        else:\n",
    "            print(f\"Insufficient quantity of {inventory[item_id]['Name']} in stock.\")\n",
    "    if order_details:\n",
    "        order[order_id] = order_details\n",
    "        print(f\"Order placed successfully! Order ID: {order_id}\")\n",
    "        order_id += 1\n",
    "\n",
    "def write_to_file(order_id):\n",
    "    with open(f\"order_{order_id}.txt\", \"w\") as file:\n",
    "        file.write(f\"Order ID: {order_id}\\n\")\n",
    "        file.write(\"Item Name  Quantity\\n\")\n",
    "        for item, quantity in order[order_id].items():\n",
    "            file.write(f\"{item}\\t{quantity}\\n\")\n",
    "\n",
    "while True:\n",
    "    print(\"WELCOME TO BIGMART!!!\")\n",
    "    print(\"\\n1. Display Inventory\")\n",
    "    print(\"2. Place Order\")\n",
    "    print(\"3. Exit\")\n",
    "    choice = int(input(\"Enter your choice: \"))\n",
    "                 \n",
    "    if choice == 1:\n",
    "                 dispinventory()\n",
    "    elif choice == 2:\n",
    "                 place_order()\n",
    "    elif choice == 3:\n",
    "                 break\n",
    "    else:\n",
    "        print(\"Invalid choice.\")\n",
    "\n",
    "if order:\n",
    "    for order_id in order:\n",
    "        write_to_file(order_id)\n",
    "\n",
    "print(\"Thank you for using the inventory system!\")"
   ]
  },
  {
   "cell_type": "code",
   "execution_count": null,
   "metadata": {},
   "outputs": [],
   "source": []
  }
 ],
 "metadata": {
  "kernelspec": {
   "display_name": "Python 3",
   "language": "python",
   "name": "python3"
  },
  "language_info": {
   "codemirror_mode": {
    "name": "ipython",
    "version": 3
   },
   "file_extension": ".py",
   "mimetype": "text/x-python",
   "name": "python",
   "nbconvert_exporter": "python",
   "pygments_lexer": "ipython3",
   "version": "3.7.6"
  }
 },
 "nbformat": 4,
 "nbformat_minor": 4
}
